{
 "cells": [
  {
   "cell_type": "markdown",
   "id": "02b33ee5",
   "metadata": {},
   "source": [
    "<a href='https://www.darshan.ac.in/'> <img src='https://www.darshan.ac.in/Content/media/DU_Logo.svg' width=\"250\" height=\"300\"/></a>\n",
    "<pre>\n",
    "<center><b><h1>Data-Mining_Project Task-1</b></center>\n",
    "<center><b><h1>Lab - 7 (Part 2)</b></center>    \n",
    "<center><b><h1>Jeet Bhalodi (23031701006)</b></center> \n",
    "<pre>\n",
    "\n",
    "\n"
   ]
  },
  {
   "cell_type": "markdown",
   "id": "08f0806f",
   "metadata": {},
   "source": [
    "### Step 1: Load the Dataset\n",
    "Load the `Tdata.csv` file and display the first few rows."
   ]
  },
  {
   "cell_type": "code",
   "execution_count": 2,
   "id": "c16f169a-7256-4bed-8dd7-f9604c8ec890",
   "metadata": {},
   "outputs": [],
   "source": [
    "import pandas as pd\n",
    "import numpy as nump\n",
    "import matplotlib.pyplot as plt"
   ]
  },
  {
   "cell_type": "code",
   "execution_count": 4,
   "id": "2a9b2970-ec75-41f9-a5ae-b4509c3bda9a",
   "metadata": {},
   "outputs": [
    {
     "data": {
      "text/html": [
       "<div>\n",
       "<style scoped>\n",
       "    .dataframe tbody tr th:only-of-type {\n",
       "        vertical-align: middle;\n",
       "    }\n",
       "\n",
       "    .dataframe tbody tr th {\n",
       "        vertical-align: top;\n",
       "    }\n",
       "\n",
       "    .dataframe thead th {\n",
       "        text-align: right;\n",
       "    }\n",
       "</style>\n",
       "<table border=\"1\" class=\"dataframe\">\n",
       "  <thead>\n",
       "    <tr style=\"text-align: right;\">\n",
       "      <th></th>\n",
       "      <th>Transaction</th>\n",
       "      <th>bread</th>\n",
       "      <th>butter</th>\n",
       "      <th>coffee</th>\n",
       "      <th>eggs</th>\n",
       "      <th>jam</th>\n",
       "      <th>milk</th>\n",
       "    </tr>\n",
       "  </thead>\n",
       "  <tbody>\n",
       "    <tr>\n",
       "      <th>0</th>\n",
       "      <td>T1</td>\n",
       "      <td>1</td>\n",
       "      <td>1</td>\n",
       "      <td>0</td>\n",
       "      <td>0</td>\n",
       "      <td>0</td>\n",
       "      <td>1</td>\n",
       "    </tr>\n",
       "    <tr>\n",
       "      <th>1</th>\n",
       "      <td>T2</td>\n",
       "      <td>1</td>\n",
       "      <td>1</td>\n",
       "      <td>0</td>\n",
       "      <td>0</td>\n",
       "      <td>1</td>\n",
       "      <td>0</td>\n",
       "    </tr>\n",
       "    <tr>\n",
       "      <th>2</th>\n",
       "      <td>T3</td>\n",
       "      <td>1</td>\n",
       "      <td>0</td>\n",
       "      <td>0</td>\n",
       "      <td>1</td>\n",
       "      <td>0</td>\n",
       "      <td>1</td>\n",
       "    </tr>\n",
       "    <tr>\n",
       "      <th>3</th>\n",
       "      <td>T4</td>\n",
       "      <td>1</td>\n",
       "      <td>1</td>\n",
       "      <td>0</td>\n",
       "      <td>0</td>\n",
       "      <td>0</td>\n",
       "      <td>1</td>\n",
       "    </tr>\n",
       "    <tr>\n",
       "      <th>4</th>\n",
       "      <td>T5</td>\n",
       "      <td>1</td>\n",
       "      <td>0</td>\n",
       "      <td>1</td>\n",
       "      <td>0</td>\n",
       "      <td>0</td>\n",
       "      <td>0</td>\n",
       "    </tr>\n",
       "    <tr>\n",
       "      <th>5</th>\n",
       "      <td>T6</td>\n",
       "      <td>0</td>\n",
       "      <td>0</td>\n",
       "      <td>1</td>\n",
       "      <td>1</td>\n",
       "      <td>1</td>\n",
       "      <td>0</td>\n",
       "    </tr>\n",
       "  </tbody>\n",
       "</table>\n",
       "</div>"
      ],
      "text/plain": [
       "  Transaction  bread  butter  coffee  eggs  jam  milk\n",
       "0          T1      1       1       0     0    0     1\n",
       "1          T2      1       1       0     0    1     0\n",
       "2          T3      1       0       0     1    0     1\n",
       "3          T4      1       1       0     0    0     1\n",
       "4          T5      1       0       1     0    0     0\n",
       "5          T6      0       0       1     1    1     0"
      ]
     },
     "execution_count": 4,
     "metadata": {},
     "output_type": "execute_result"
    }
   ],
   "source": [
    "df = pd.read_csv('Tdata.csv')\n",
    "df"
   ]
  },
  {
   "cell_type": "markdown",
   "id": "3532ee71",
   "metadata": {},
   "source": [
    "### Step 2: Drop the 'Transaction' Column\n",
    "We're only interested in the items (not the transaction IDs)."
   ]
  },
  {
   "cell_type": "code",
   "execution_count": 14,
   "id": "40d9a1da-fc0a-431d-b022-e54c532b7db3",
   "metadata": {},
   "outputs": [],
   "source": [
    "df=df.drop('Transaction',axis=1)"
   ]
  },
  {
   "cell_type": "code",
   "execution_count": 16,
   "id": "49ad12f6-4a9a-4fa9-aadf-3db91ec26b69",
   "metadata": {},
   "outputs": [
    {
     "data": {
      "text/html": [
       "<div>\n",
       "<style scoped>\n",
       "    .dataframe tbody tr th:only-of-type {\n",
       "        vertical-align: middle;\n",
       "    }\n",
       "\n",
       "    .dataframe tbody tr th {\n",
       "        vertical-align: top;\n",
       "    }\n",
       "\n",
       "    .dataframe thead th {\n",
       "        text-align: right;\n",
       "    }\n",
       "</style>\n",
       "<table border=\"1\" class=\"dataframe\">\n",
       "  <thead>\n",
       "    <tr style=\"text-align: right;\">\n",
       "      <th></th>\n",
       "      <th>bread</th>\n",
       "      <th>butter</th>\n",
       "      <th>coffee</th>\n",
       "      <th>eggs</th>\n",
       "      <th>jam</th>\n",
       "      <th>milk</th>\n",
       "    </tr>\n",
       "  </thead>\n",
       "  <tbody>\n",
       "    <tr>\n",
       "      <th>0</th>\n",
       "      <td>1</td>\n",
       "      <td>1</td>\n",
       "      <td>0</td>\n",
       "      <td>0</td>\n",
       "      <td>0</td>\n",
       "      <td>1</td>\n",
       "    </tr>\n",
       "    <tr>\n",
       "      <th>1</th>\n",
       "      <td>1</td>\n",
       "      <td>1</td>\n",
       "      <td>0</td>\n",
       "      <td>0</td>\n",
       "      <td>1</td>\n",
       "      <td>0</td>\n",
       "    </tr>\n",
       "    <tr>\n",
       "      <th>2</th>\n",
       "      <td>1</td>\n",
       "      <td>0</td>\n",
       "      <td>0</td>\n",
       "      <td>1</td>\n",
       "      <td>0</td>\n",
       "      <td>1</td>\n",
       "    </tr>\n",
       "    <tr>\n",
       "      <th>3</th>\n",
       "      <td>1</td>\n",
       "      <td>1</td>\n",
       "      <td>0</td>\n",
       "      <td>0</td>\n",
       "      <td>0</td>\n",
       "      <td>1</td>\n",
       "    </tr>\n",
       "    <tr>\n",
       "      <th>4</th>\n",
       "      <td>1</td>\n",
       "      <td>0</td>\n",
       "      <td>1</td>\n",
       "      <td>0</td>\n",
       "      <td>0</td>\n",
       "      <td>0</td>\n",
       "    </tr>\n",
       "    <tr>\n",
       "      <th>5</th>\n",
       "      <td>0</td>\n",
       "      <td>0</td>\n",
       "      <td>1</td>\n",
       "      <td>1</td>\n",
       "      <td>1</td>\n",
       "      <td>0</td>\n",
       "    </tr>\n",
       "  </tbody>\n",
       "</table>\n",
       "</div>"
      ],
      "text/plain": [
       "   bread  butter  coffee  eggs  jam  milk\n",
       "0      1       1       0     0    0     1\n",
       "1      1       1       0     0    1     0\n",
       "2      1       0       0     1    0     1\n",
       "3      1       1       0     0    0     1\n",
       "4      1       0       1     0    0     0\n",
       "5      0       0       1     1    1     0"
      ]
     },
     "execution_count": 16,
     "metadata": {},
     "output_type": "execute_result"
    }
   ],
   "source": [
    "df"
   ]
  },
  {
   "cell_type": "markdown",
   "id": "f1f8e5fa",
   "metadata": {},
   "source": [
    "### Step 3: Count Single Items\n",
    "See how many transactions include each item."
   ]
  },
  {
   "cell_type": "code",
   "execution_count": 18,
   "id": "2d884231-6845-4bf5-abe3-9cb19abf66c9",
   "metadata": {},
   "outputs": [
    {
     "data": {
      "text/plain": [
       "bread     5\n",
       "butter    3\n",
       "coffee    2\n",
       "eggs      2\n",
       "jam       2\n",
       "milk      3\n",
       "dtype: int64"
      ]
     },
     "execution_count": 18,
     "metadata": {},
     "output_type": "execute_result"
    }
   ],
   "source": [
    "df.sum()"
   ]
  },
  {
   "cell_type": "markdown",
   "id": "06a4f0e5",
   "metadata": {},
   "source": [
    "### Step 4: Define Apriori Function\n",
    "This function finds frequent itemsets of size 1, 2, and 3 with minimum support."
   ]
  },
  {
   "cell_type": "code",
   "execution_count": 70,
   "id": "d11baaab",
   "metadata": {},
   "outputs": [],
   "source": [
    "from itertools import combinations\n",
    "\n",
    "def find_freqent_itemsets(df, min_support):\n",
    "    n = len(df)\n",
    "    result = []\n",
    "    \n",
    "    for k in [1, 2, 3]: \n",
    "        for items in combinations(df.columns, k):\n",
    "            mask = df[list(items)].all(axis=1)\n",
    "            print(\"items\",items, \"masks\",mask.sum())\n",
    "            support = mask.sum() / n\n",
    "            print(f\"{set(items)} -> support: {round(support, 2)} \")\n",
    "        if support >= min_support:\n",
    "            result.append((frozenset(items),round(support, 2)))\n",
    "    return result"
   ]
  },
  {
   "cell_type": "code",
   "execution_count": null,
   "id": "5c8351d4-6fb9-4283-b053-7af69d05841e",
   "metadata": {},
   "outputs": [],
   "source": [
    "\n"
   ]
  },
  {
   "cell_type": "markdown",
   "id": "ec43a005",
   "metadata": {},
   "source": [
    "### Step 5: Run Apriori\n",
    "Set `min_support = 0.6` and display the frequent itemsets."
   ]
  },
  {
   "cell_type": "code",
   "execution_count": 78,
   "id": "c6e33702",
   "metadata": {},
   "outputs": [
    {
     "name": "stdout",
     "output_type": "stream",
     "text": [
      "items ('bread',) masks 5\n",
      "{'bread'} -> support: 0.83 \n",
      "items ('butter',) masks 3\n",
      "{'butter'} -> support: 0.5 \n",
      "items ('coffee',) masks 2\n",
      "{'coffee'} -> support: 0.33 \n",
      "items ('eggs',) masks 2\n",
      "{'eggs'} -> support: 0.33 \n",
      "items ('jam',) masks 2\n",
      "{'jam'} -> support: 0.33 \n",
      "items ('milk',) masks 3\n",
      "{'milk'} -> support: 0.5 \n",
      "items ('bread', 'butter') masks 3\n",
      "{'butter', 'bread'} -> support: 0.5 \n",
      "items ('bread', 'coffee') masks 1\n",
      "{'bread', 'coffee'} -> support: 0.17 \n",
      "items ('bread', 'eggs') masks 1\n",
      "{'bread', 'eggs'} -> support: 0.17 \n",
      "items ('bread', 'jam') masks 1\n",
      "{'bread', 'jam'} -> support: 0.17 \n",
      "items ('bread', 'milk') masks 3\n",
      "{'bread', 'milk'} -> support: 0.5 \n",
      "items ('butter', 'coffee') masks 0\n",
      "{'butter', 'coffee'} -> support: 0.0 \n",
      "items ('butter', 'eggs') masks 0\n",
      "{'butter', 'eggs'} -> support: 0.0 \n",
      "items ('butter', 'jam') masks 1\n",
      "{'butter', 'jam'} -> support: 0.17 \n",
      "items ('butter', 'milk') masks 2\n",
      "{'butter', 'milk'} -> support: 0.33 \n",
      "items ('coffee', 'eggs') masks 1\n",
      "{'eggs', 'coffee'} -> support: 0.17 \n",
      "items ('coffee', 'jam') masks 1\n",
      "{'jam', 'coffee'} -> support: 0.17 \n",
      "items ('coffee', 'milk') masks 0\n",
      "{'milk', 'coffee'} -> support: 0.0 \n",
      "items ('eggs', 'jam') masks 1\n",
      "{'jam', 'eggs'} -> support: 0.17 \n",
      "items ('eggs', 'milk') masks 1\n",
      "{'milk', 'eggs'} -> support: 0.17 \n",
      "items ('jam', 'milk') masks 0\n",
      "{'jam', 'milk'} -> support: 0.0 \n",
      "items ('bread', 'butter', 'coffee') masks 0\n",
      "{'butter', 'bread', 'coffee'} -> support: 0.0 \n",
      "items ('bread', 'butter', 'eggs') masks 0\n",
      "{'butter', 'bread', 'eggs'} -> support: 0.0 \n",
      "items ('bread', 'butter', 'jam') masks 1\n",
      "{'butter', 'bread', 'jam'} -> support: 0.17 \n",
      "items ('bread', 'butter', 'milk') masks 2\n",
      "{'butter', 'bread', 'milk'} -> support: 0.33 \n",
      "items ('bread', 'coffee', 'eggs') masks 0\n",
      "{'eggs', 'bread', 'coffee'} -> support: 0.0 \n",
      "items ('bread', 'coffee', 'jam') masks 0\n",
      "{'bread', 'jam', 'coffee'} -> support: 0.0 \n",
      "items ('bread', 'coffee', 'milk') masks 0\n",
      "{'milk', 'bread', 'coffee'} -> support: 0.0 \n",
      "items ('bread', 'eggs', 'jam') masks 0\n",
      "{'bread', 'jam', 'eggs'} -> support: 0.0 \n",
      "items ('bread', 'eggs', 'milk') masks 1\n",
      "{'milk', 'bread', 'eggs'} -> support: 0.17 \n",
      "items ('bread', 'jam', 'milk') masks 0\n",
      "{'bread', 'jam', 'milk'} -> support: 0.0 \n",
      "items ('butter', 'coffee', 'eggs') masks 0\n",
      "{'butter', 'eggs', 'coffee'} -> support: 0.0 \n",
      "items ('butter', 'coffee', 'jam') masks 0\n",
      "{'butter', 'jam', 'coffee'} -> support: 0.0 \n",
      "items ('butter', 'coffee', 'milk') masks 0\n",
      "{'butter', 'milk', 'coffee'} -> support: 0.0 \n",
      "items ('butter', 'eggs', 'jam') masks 0\n",
      "{'butter', 'jam', 'eggs'} -> support: 0.0 \n",
      "items ('butter', 'eggs', 'milk') masks 0\n",
      "{'butter', 'milk', 'eggs'} -> support: 0.0 \n",
      "items ('butter', 'jam', 'milk') masks 0\n",
      "{'butter', 'jam', 'milk'} -> support: 0.0 \n",
      "items ('coffee', 'eggs', 'jam') masks 1\n",
      "{'eggs', 'jam', 'coffee'} -> support: 0.17 \n",
      "items ('coffee', 'eggs', 'milk') masks 0\n",
      "{'milk', 'eggs', 'coffee'} -> support: 0.0 \n",
      "items ('coffee', 'jam', 'milk') masks 0\n",
      "{'milk', 'jam', 'coffee'} -> support: 0.0 \n",
      "items ('eggs', 'jam', 'milk') masks 0\n",
      "{'milk', 'jam', 'eggs'} -> support: 0.0 \n",
      "{'milk'}->support :0.5\n"
     ]
    }
   ],
   "source": [
    "frequent_itemsets= find_freqent_itemsets(df,min_support=0.5)\n",
    "frequent_itemsets\n",
    "\n",
    "for itemset,support in frequent_itemsets:\n",
    "    print(f\"{set(itemset)}->support :{support}\")"
   ]
  },
  {
   "cell_type": "markdown",
   "id": "0026f6da",
   "metadata": {},
   "source": [
    "### Step 6 Display as a DataFrame"
   ]
  },
  {
   "cell_type": "code",
   "execution_count": 74,
   "id": "05d6e109-17cd-4671-bfbd-2de9dcd48d58",
   "metadata": {},
   "outputs": [
    {
     "name": "stdout",
     "output_type": "stream",
     "text": [
      "{'milk'}->support :0.5\n"
     ]
    }
   ],
   "source": [
    "freq_df=pd.DataFrame(frequent_itemsets,columns=['Itemset','Support'])\n",
    "\n",
    "for itemset,support in frequent_itemsets:\n",
    "    print(f\"{set(itemset)}->support :{support}\")"
   ]
  },
  {
   "cell_type": "code",
   "execution_count": null,
   "id": "d2ec9fa2-e755-4342-813d-2ff1bd5e6d85",
   "metadata": {},
   "outputs": [],
   "source": []
  },
  {
   "cell_type": "code",
   "execution_count": null,
   "id": "2c772d61",
   "metadata": {},
   "outputs": [
    {
     "data": {
      "text/html": [
       "<div>\n",
       "<style scoped>\n",
       "    .dataframe tbody tr th:only-of-type {\n",
       "        vertical-align: middle;\n",
       "    }\n",
       "\n",
       "    .dataframe tbody tr th {\n",
       "        vertical-align: top;\n",
       "    }\n",
       "\n",
       "    .dataframe thead th {\n",
       "        text-align: right;\n",
       "    }\n",
       "</style>\n",
       "<table border=\"1\" class=\"dataframe\">\n",
       "  <thead>\n",
       "    <tr style=\"text-align: right;\">\n",
       "      <th></th>\n",
       "      <th>Itemset</th>\n",
       "      <th>Support</th>\n",
       "    </tr>\n",
       "  </thead>\n",
       "  <tbody>\n",
       "    <tr>\n",
       "      <th>0</th>\n",
       "      <td>(bread)</td>\n",
       "      <td>0.83</td>\n",
       "    </tr>\n",
       "  </tbody>\n",
       "</table>\n",
       "</div>"
      ],
      "text/plain": [
       "   Itemset  Support\n",
       "0  (bread)     0.83"
      ]
     },
     "execution_count": 6,
     "metadata": {},
     "output_type": "execute_result"
    }
   ],
   "source": []
  },
  {
   "cell_type": "code",
   "execution_count": null,
   "id": "686950f7",
   "metadata": {},
   "outputs": [],
   "source": []
  },
  {
   "cell_type": "markdown",
   "id": "068f6cea",
   "metadata": {},
   "source": [
    "# Orange Tool : - >Generate Same Frequent Patterns in Orange tools"
   ]
  },
  {
   "cell_type": "code",
   "execution_count": null,
   "id": "76aa891d",
   "metadata": {},
   "outputs": [],
   "source": []
  },
  {
   "cell_type": "markdown",
   "id": "744909d6",
   "metadata": {},
   "source": [
    "# Extra : - >  Define Apriori Function without itertools"
   ]
  },
  {
   "cell_type": "code",
   "execution_count": null,
   "id": "db8ff032",
   "metadata": {},
   "outputs": [],
   "source": []
  },
  {
   "cell_type": "code",
   "execution_count": null,
   "id": "d71a9b00",
   "metadata": {},
   "outputs": [],
   "source": []
  }
 ],
 "metadata": {
  "kernelspec": {
   "display_name": "Python 3 (ipykernel)",
   "language": "python",
   "name": "python3"
  },
  "language_info": {
   "codemirror_mode": {
    "name": "ipython",
    "version": 3
   },
   "file_extension": ".py",
   "mimetype": "text/x-python",
   "name": "python",
   "nbconvert_exporter": "python",
   "pygments_lexer": "ipython3",
   "version": "3.12.7"
  }
 },
 "nbformat": 4,
 "nbformat_minor": 5
}
